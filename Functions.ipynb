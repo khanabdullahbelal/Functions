{
  "nbformat": 4,
  "nbformat_minor": 0,
  "metadata": {
    "colab": {
      "provenance": []
    },
    "kernelspec": {
      "name": "python3",
      "display_name": "Python 3"
    },
    "language_info": {
      "name": "python"
    }
  },
  "cells": [
    {
      "cell_type": "markdown",
      "source": [
        "1. Difference between function and method:\n",
        "\n",
        "  - A function is independent, can be called directly: def add(a,b): return a+b\n",
        "  - A method is tied to an object or class: \"hello\".upper() is a string method\n",
        "  - Methods usually operate on the data of the object they belong to.\n",
        "\n",
        "2. Function arguments and parameters:\n",
        "\n",
        "  - Parameter is a variable in function definition: def greet(name): → name is a parameter\n",
        "  - Argument is the actual value passed: greet(\"Abdullah\") → \"Abdullah\" is an argument\n",
        "  - Functions can have default, positional, or keyword arguments.\n",
        "\n",
        "3. Ways to define and call a function:\n",
        "\n",
        "  - Define normally: def add(a,b): return a+b\n",
        "  - Call normally: add(2,3)\n",
        "  - Can also use lambda function for simple one-line function: f = lambda x: x*2\n",
        "\n",
        "4. Purpose of return statement:\n",
        "\n",
        " - Sends the result back to the caller: def add(a,b): return a+b\n",
        " - Without return, function gives None\n",
        " - Helps store or use the result later: sum = add(2,3)\n",
        "\n",
        "5. Iterators vs iterables:\n",
        "\n",
        "  - Iterable can be looped over: list = [1,2,3]\n",
        "  - Iterator gives one item at a time using iter() and next()\n",
        "  - All iterators are iterable, but not all iterables are iterators\n",
        "\n",
        "6. Generators in Python:\n",
        "\n",
        "  - Special functions that yield values one at a time: def gen(): yield 1\n",
        "  - Don’t store all values in memory\n",
        "  - Created using yield instead of return\n",
        "\n",
        "7. Advantages of generators:\n",
        "\n",
        "  - Memory efficient for large data\n",
        "  - Lazy evaluation (calculates values only when needed)\n",
        "  - Can represent infinite sequences easily\n",
        "\n",
        "8. Lambda function:\n",
        "\n",
        "  - One-line anonymous function: f = lambda x: x*2\n",
        "  - Typically used for small, simple operations\n",
        "  - Can be passed directly to functions like map(), filter()\n",
        "\n",
        "9. Purpose of map() function:\n",
        "\n",
        "  - Applies a function to all items in an iterable: map(lambda x:x*2, [1,2,3])\n",
        "  - Returns a map object (iterator)\n",
        "  - Can transform or process data easily in one line\n",
        "\n",
        "10. Difference between map(), reduce(), and filter():\n",
        "\n",
        "  - map() → applies a function to each element: map(lambda x:x*2, [1,2,3])\n",
        "  - reduce() → combines all elements into a single value: reduce(lambda x,y: x+y, [1,2,3])\n",
        "  - filter() → selects elements based on condition: filter(lambda x:x>1, [1,2,3])\n",
        "\n",
        "11. Using pen & Paper write the internal mechanism for sum operation using reduce function on this given list:[47,11,42,13];\n",
        "  \n",
        "  from functools import reduce\n",
        "  reduce(lambda x, y: x + y, [47, 11, 42, 13])\n",
        "\n",
        "  Step-by-step mechanism:\n",
        "\n",
        "  List: [47, 11, 42, 13]\n",
        "  Operation: x + y\n",
        "\n",
        "  - Take first two elements: 47 and 11\n",
        "\n",
        "  47 + 11 = 58\n",
        "\n",
        "  - Take the result and next element: 58 and 42\n",
        "\n",
        "  58 + 42 = 100\n",
        "\n",
        "  - Take the result and next element: 100 and 13\n",
        "\n",
        "  100 + 13 = 113\n",
        "\n",
        "  - Final result: 113\n",
        "\n"
      ],
      "metadata": {
        "id": "uOAW4OSS7-cQ"
      }
    },
    {
      "cell_type": "code",
      "source": [
        "# 1. Write a Python function that takes a list of numbers as input and returns the sum of all even numbers in the list."
      ],
      "metadata": {
        "id": "3fD-0MsS_bgU"
      },
      "execution_count": null,
      "outputs": []
    },
    {
      "cell_type": "code",
      "source": [
        "def sum_even_numbers(numbers):\n",
        "    return sum(num for num in numbers if num % 2 == 0)\n",
        "\n",
        "# Example\n",
        "print(sum_even_numbers([1, 2, 3, 4, 5, 6]))  # Output: 12\n"
      ],
      "metadata": {
        "colab": {
          "base_uri": "https://localhost:8080/"
        },
        "id": "8zBre0WPLQLp",
        "outputId": "0aaf54f4-e1ce-4ac1-c9a3-acc91909b8a0"
      },
      "execution_count": null,
      "outputs": [
        {
          "output_type": "stream",
          "name": "stdout",
          "text": [
            "12\n"
          ]
        }
      ]
    },
    {
      "cell_type": "code",
      "source": [
        "# 2. Create a Python function that accepts a string and returns the reverse of that string."
      ],
      "metadata": {
        "id": "szxtGrmoLcJi"
      },
      "execution_count": null,
      "outputs": []
    },
    {
      "cell_type": "code",
      "source": [
        "def reverse_string(s):\n",
        "    return s[::-1]\n",
        "\n",
        "# Example\n",
        "print(reverse_string(\"Python\"))  # Output: \"nohtyP\"\n"
      ],
      "metadata": {
        "colab": {
          "base_uri": "https://localhost:8080/"
        },
        "id": "8QDrzTmnL4AU",
        "outputId": "1594bd81-fbf7-401e-9f43-473c2d556f5d"
      },
      "execution_count": null,
      "outputs": [
        {
          "output_type": "stream",
          "name": "stdout",
          "text": [
            "nohtyP\n"
          ]
        }
      ]
    },
    {
      "cell_type": "code",
      "source": [
        "# 3. Implement a Python function that takes a list of integers and returns a new list containing the squares of each number."
      ],
      "metadata": {
        "id": "y0OszpBIL8Vr"
      },
      "execution_count": null,
      "outputs": []
    },
    {
      "cell_type": "code",
      "source": [
        "def square_list(numbers):\n",
        "    return [num**2 for num in numbers]\n",
        "\n",
        "# Example\n",
        "print(square_list([1, 2, 3, 4]))  # Output: [1, 4, 9, 16]\n"
      ],
      "metadata": {
        "colab": {
          "base_uri": "https://localhost:8080/"
        },
        "id": "YnoxjOmwMDXJ",
        "outputId": "ef9f82b6-82dc-4670-8e2c-c41538b110b2"
      },
      "execution_count": null,
      "outputs": [
        {
          "output_type": "stream",
          "name": "stdout",
          "text": [
            "[1, 4, 9, 16]\n"
          ]
        }
      ]
    },
    {
      "cell_type": "code",
      "source": [
        "# 4. Write a Python function that checks if a given number is prime or not from 1 to 200."
      ],
      "metadata": {
        "id": "uT4OhWQLMMO3"
      },
      "execution_count": null,
      "outputs": []
    },
    {
      "cell_type": "code",
      "source": [
        "def is_prime(n):\n",
        "    if n < 2:\n",
        "        return False\n",
        "    for i in range(2, int(n**0.5)+1):\n",
        "        if n % i == 0:\n",
        "            return False\n",
        "    return True\n",
        "\n",
        "# Example\n",
        "for num in range(1, 201):\n",
        "    if is_prime(num):\n",
        "        print(num, end=\" \")\n"
      ],
      "metadata": {
        "colab": {
          "base_uri": "https://localhost:8080/"
        },
        "id": "YsM3EfrgMTKm",
        "outputId": "6d98798a-5e31-4fe2-b637-b282c85f192a"
      },
      "execution_count": null,
      "outputs": [
        {
          "output_type": "stream",
          "name": "stdout",
          "text": [
            "2 3 5 7 11 13 17 19 23 29 31 37 41 43 47 53 59 61 67 71 73 79 83 89 97 101 103 107 109 113 127 131 137 139 149 151 157 163 167 173 179 181 191 193 197 199 "
          ]
        }
      ]
    },
    {
      "cell_type": "code",
      "source": [
        "# 5. Create an iterator class in Python that generates the Fibonacci sequence up to a specified number of terms."
      ],
      "metadata": {
        "id": "urwcKtU7Mh2d"
      },
      "execution_count": null,
      "outputs": []
    },
    {
      "cell_type": "code",
      "source": [
        "class Fibonacci:\n",
        "    def __init__(self, n):\n",
        "        self.n = n\n",
        "        self.a, self.b = 0, 1\n",
        "        self.count = 0\n",
        "\n",
        "    def __iter__(self):\n",
        "        return self\n",
        "\n",
        "    def __next__(self):\n",
        "        if self.count >= self.n:\n",
        "            raise StopIteration\n",
        "        self.count += 1\n",
        "        self.a, self.b = self.b, self.a + self.b\n",
        "        return self.a\n",
        "\n",
        "# Example\n",
        "for num in Fibonacci(10):\n",
        "    print(num, end=\" \")\n"
      ],
      "metadata": {
        "colab": {
          "base_uri": "https://localhost:8080/"
        },
        "id": "_bfJDmrUMjnd",
        "outputId": "11785801-ed80-44e2-9261-f6dce275bb75"
      },
      "execution_count": null,
      "outputs": [
        {
          "output_type": "stream",
          "name": "stdout",
          "text": [
            "1 1 2 3 5 8 13 21 34 55 "
          ]
        }
      ]
    },
    {
      "cell_type": "code",
      "source": [
        "# 6. Write a generator function in Python that yields the powers of 2 up to a given exponent."
      ],
      "metadata": {
        "id": "0N3asTrRMtHz"
      },
      "execution_count": null,
      "outputs": []
    },
    {
      "cell_type": "code",
      "source": [
        "def powers_of_2(exponent):\n",
        "    for i in range(exponent + 1):\n",
        "        yield 2**i\n",
        "\n",
        "# Example\n",
        "for p in powers_of_2(5):\n",
        "    print(p, end=\" \")\n"
      ],
      "metadata": {
        "colab": {
          "base_uri": "https://localhost:8080/"
        },
        "id": "zSN1zrCmMuxx",
        "outputId": "824d1c7a-9dd1-4237-9fce-8d3ba9e362bc"
      },
      "execution_count": null,
      "outputs": [
        {
          "output_type": "stream",
          "name": "stdout",
          "text": [
            "1 2 4 8 16 32 "
          ]
        }
      ]
    },
    {
      "cell_type": "code",
      "source": [
        "# 7. Implement a generator function that reads a file line by line and yields each line as a string."
      ],
      "metadata": {
        "id": "JskJ7fczMy4z"
      },
      "execution_count": null,
      "outputs": []
    },
    {
      "cell_type": "code",
      "source": [
        "def read_file(file_path):\n",
        "    with open(file_path, 'r') as f:\n",
        "        for line in f:\n",
        "            yield line.strip()\n",
        "\n",
        "# Example\n",
        "# for line in read_file(\"example.txt\"):\n",
        "#     print(line)\n"
      ],
      "metadata": {
        "id": "IORPCe3iM3dx"
      },
      "execution_count": null,
      "outputs": []
    },
    {
      "cell_type": "code",
      "source": [
        "# 8. Use a lambda function in Python to sort a list of tuples based on the second element of each tuple."
      ],
      "metadata": {
        "id": "otlijt8KNE2T"
      },
      "execution_count": null,
      "outputs": []
    },
    {
      "cell_type": "code",
      "source": [
        "tuples = [(1, 3), (4, 1), (2, 2)]\n",
        "sorted_tuples = sorted(tuples, key=lambda x: x[1])\n",
        "print(sorted_tuples)  # Output: [(4, 1), (2, 2), (1, 3)]\n"
      ],
      "metadata": {
        "colab": {
          "base_uri": "https://localhost:8080/"
        },
        "id": "Gjwxgw3lNM2W",
        "outputId": "76c29b21-7166-4bca-a355-24ba985ca55c"
      },
      "execution_count": null,
      "outputs": [
        {
          "output_type": "stream",
          "name": "stdout",
          "text": [
            "[(4, 1), (2, 2), (1, 3)]\n"
          ]
        }
      ]
    },
    {
      "cell_type": "code",
      "source": [
        "# 9. Write a Python program that uses map() to convert a list of temperatures from Celsius to Fahrenheit."
      ],
      "metadata": {
        "id": "r9cT17UDNT29"
      },
      "execution_count": null,
      "outputs": []
    },
    {
      "cell_type": "code",
      "source": [
        "celsius = [0, 20, 37, 100]\n",
        "fahrenheit = list(map(lambda c: (c * 9/5) + 32, celsius))\n",
        "print(fahrenheit)  # Output: [32.0, 68.0, 98.6, 212.0]\n"
      ],
      "metadata": {
        "colab": {
          "base_uri": "https://localhost:8080/"
        },
        "id": "jRAqsCZkNY-T",
        "outputId": "092999c5-c8f9-4fba-d000-927249009369"
      },
      "execution_count": null,
      "outputs": [
        {
          "output_type": "stream",
          "name": "stdout",
          "text": [
            "[32.0, 68.0, 98.6, 212.0]\n"
          ]
        }
      ]
    },
    {
      "cell_type": "code",
      "source": [
        "# 10. Create a Python program that uses filter() to remove all the vowels from a given string."
      ],
      "metadata": {
        "id": "zVbVdZmiNcWc"
      },
      "execution_count": null,
      "outputs": []
    },
    {
      "cell_type": "code",
      "source": [
        "def remove_vowels(s):\n",
        "    vowels = 'aeiouAEIOU'\n",
        "    return ''.join(filter(lambda c: c not in vowels, s))\n",
        "\n",
        "# Example\n",
        "print(remove_vowels(\"Hello World\"))  # Output: \"Hll Wrld\"\n"
      ],
      "metadata": {
        "colab": {
          "base_uri": "https://localhost:8080/"
        },
        "id": "ta4x13mpNhFh",
        "outputId": "c8c0cb52-88c7-43f6-eb5b-c8d3b44e1feb"
      },
      "execution_count": null,
      "outputs": [
        {
          "output_type": "stream",
          "name": "stdout",
          "text": [
            "Hll Wrld\n"
          ]
        }
      ]
    },
    {
      "cell_type": "code",
      "source": [
        "#. 11 Imagine an accounting routine used in a book shop. It works on a list with sublists, which look like this:\n",
        "    # Write a Python program, which returns a list with 2-tuples. Each tuple consists of the order number and the\n",
        "    #  product of the price per item and the quantity. The product should be increased by 10,- € if the value of the\n",
        "    # order is smaller than 100,00 €.\n",
        "\n",
        "    #Write a Python program using lambda and map."
      ],
      "metadata": {
        "id": "9vISFNoTNpE_"
      },
      "execution_count": null,
      "outputs": []
    },
    {
      "cell_type": "code",
      "source": [
        "# The original data structure (list of sublists)\n",
        "orders = [\n",
        "    [34587, \"Learning Python, Mark Lutz\", 4, 40.95],\n",
        "    [98762, \"Programming Python, Mark Lutz\", 5, 56.80],\n",
        "    [77226, \"Head First Python, Paul Barry\", 3, 32.95],\n",
        "    [88112, \"Einführung in Python3, Bernd Klein\", 3, 24.99]\n",
        "]\n",
        "\n",
        "# 1. Define the logic as a lambda function:\n",
        "# - It takes an 'order' sublist (e.g., [34587, ..., 4, 40.95])\n",
        "# - It calculates the product: order[2] * order[3] (Quantity * Price per Item)\n",
        "# - It checks the condition: if the product < 100.00, it adds 10.00\n",
        "# - It returns a 2-tuple: (Order Number, Final Calculated Price)\n",
        "calculate_price = lambda order: (\n",
        "    order[0], # The Order Number\n",
        "    (order[2] * order[3]) + (10.00 if (order[2] * order[3]) < 100.00 else 0.00)\n",
        ")\n",
        "\n",
        "# 2. Use map() to apply the lambda function to every item in the 'orders' list.\n",
        "# The result is cast to a list.\n",
        "processed_orders = list(map(calculate_price, orders))\n",
        "\n",
        "# 3. Print the result\n",
        "print(processed_orders)"
      ],
      "metadata": {
        "colab": {
          "base_uri": "https://localhost:8080/"
        },
        "id": "BNic1brVOO6i",
        "outputId": "45bb7435-7189-49a0-90d0-f932aeca035c"
      },
      "execution_count": null,
      "outputs": [
        {
          "output_type": "stream",
          "name": "stdout",
          "text": [
            "[(34587, 163.8), (98762, 284.0), (77226, 108.85000000000001), (88112, 84.97)]\n"
          ]
        }
      ]
    },
    {
      "cell_type": "markdown",
      "source": [],
      "metadata": {
        "id": "bJUWXKWYwV7K"
      }
    }
  ]
}